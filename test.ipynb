{
 "cells": [
  {
   "cell_type": "code",
   "execution_count": null,
   "metadata": {},
   "outputs": [],
   "source": [
    "#lista = [1,2,3,4,5,6,6,7]"
   ]
  },
  {
   "cell_type": "code",
   "execution_count": null,
   "metadata": {},
   "outputs": [],
   "source": [
    "#a=1\n",
    "#b=3\n",
    "#f\"{a}+{b}i\"\n"
   ]
  },
  {
   "cell_type": "code",
   "execution_count": null,
   "metadata": {},
   "outputs": [],
   "source": [
    "# def fun1(x:list):\n",
    "#     i=0\n",
    "#     suma=0\n",
    "#     n=len(x)\n",
    "#     while i<n:\n",
    "#         suma =suma + x[i]\n",
    "#         i=i+1\n",
    "#     return suma"
   ]
  },
  {
   "cell_type": "code",
   "execution_count": null,
   "metadata": {},
   "outputs": [],
   "source": [
    "# fun1(lista)"
   ]
  },
  {
   "cell_type": "code",
   "execution_count": null,
   "metadata": {},
   "outputs": [],
   "source": [
    "#class complex:\n",
    "    #def __init__(self, a, b):\n",
    "        #self.a = a\n",
    "        #self.b = b\n",
    "    #def __add__(self,new):\n",
    "        #sum_a=self.a  + new.a\n",
    "        #sum_b=self.b + new.b\n",
    "        #return complex(sum_a,sum_b)\n",
    "    #def suma(self):\n",
    "        #return self.a +self.b\n",
    "    #def modul(self):\n",
    "        #return (self.a**2+self.b**2)**(1/2)\n",
    "    #def real(self):\n",
    "        #return self.a\n",
    "    #def im(self):\n",
    "        #return self.b\n",
    "    #def show(self):\n",
    "        #return f\"{self.a}+{self.b}i\""
   ]
  },
  {
   "cell_type": "code",
   "execution_count": null,
   "metadata": {},
   "outputs": [],
   "source": [
    "#complex(1,2).show()"
   ]
  },
  {
   "cell_type": "code",
   "execution_count": null,
   "metadata": {},
   "outputs": [],
   "source": [
    "#(complex(1,2) + complex(1,2)).show()"
   ]
  },
  {
   "cell_type": "code",
   "execution_count": 3,
   "metadata": {},
   "outputs": [],
   "source": [
    "import random"
   ]
  },
  {
   "cell_type": "code",
   "execution_count": 45,
   "metadata": {},
   "outputs": [],
   "source": [
    "# lista = [\"plywalnia Kurdwanow\",\"Com-Com Zone\"]\n",
    "\n",
    "# a = random.choice(lista)\n",
    "\n",
    "# print(\"Wylosowany basen to : \" + str(a))\n",
    "\n",
    "def losowanko_basenu():\n",
    "    lista = [\"plywalnia Kurdwanow\",\"Com-Com Zone\"]\n",
    "    a = random.choice(lista)\n",
    "    return \"Wylosowany basen to: \" + str(a)"
   ]
  },
  {
   "cell_type": "code",
   "execution_count": 63,
   "metadata": {},
   "outputs": [
    {
     "data": {
      "text/plain": [
       "'Wylosowany basen to: plywalnia Kurdwanow'"
      ]
     },
     "execution_count": 63,
     "metadata": {},
     "output_type": "execute_result"
    }
   ],
   "source": [
    "losowanko_basenu()"
   ]
  },
  {
   "cell_type": "code",
   "execution_count": 24,
   "metadata": {},
   "outputs": [
    {
     "name": "stdout",
     "output_type": "stream",
     "text": [
      "Wylosowany basen to : plywalnia Kurdwanow\n"
     ]
    }
   ],
   "source": [
    "print(\"Wylosowany basen to : \" + str(a))"
   ]
  },
  {
   "cell_type": "code",
   "execution_count": null,
   "metadata": {},
   "outputs": [],
   "source": []
  }
 ],
 "metadata": {
  "kernelspec": {
   "display_name": "venvProject",
   "language": "python",
   "name": "python3"
  },
  "language_info": {
   "codemirror_mode": {
    "name": "ipython",
    "version": 3
   },
   "file_extension": ".py",
   "mimetype": "text/x-python",
   "name": "python",
   "nbconvert_exporter": "python",
   "pygments_lexer": "ipython3",
   "version": "3.11.8"
  }
 },
 "nbformat": 4,
 "nbformat_minor": 2
}
